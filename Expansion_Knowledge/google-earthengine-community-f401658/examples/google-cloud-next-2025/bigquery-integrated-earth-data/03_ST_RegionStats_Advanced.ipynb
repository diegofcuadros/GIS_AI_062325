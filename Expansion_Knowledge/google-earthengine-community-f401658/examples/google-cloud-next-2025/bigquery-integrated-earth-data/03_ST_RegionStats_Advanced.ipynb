{
  "nbformat": 4,
  "nbformat_minor": 0,
  "metadata": {
    "colab": {
      "provenance": []
    },
    "kernelspec": {
      "name": "python3",
      "display_name": "Python 3"
    },
    "language_info": {
      "name": "python"
    }
  },
  "cells": [
    {
      "cell_type": "code",
      "execution_count": null,
      "metadata": {
        "id": "KbMXmcWr-TP2"
      },
      "outputs": [],
      "source": [
        "#@title Copyright 2025 The Earth Engine Community Authors { display-mode: \"form\" }\n",
        "#\n",
        "# Licensed under the Apache License, Version 2.0 (the \"License\");\n",
        "# you may not use this file except in compliance with the License.\n",
        "# You may obtain a copy of the License at\n",
        "#\n",
        "# https://www.apache.org/licenses/LICENSE-2.0\n",
        "#\n",
        "# Unless required by applicable law or agreed to in writing, software\n",
        "# distributed under the License is distributed on an \"AS IS\" BASIS,\n",
        "# WITHOUT WARRANTIES OR CONDITIONS OF ANY KIND, either express or implied.\n",
        "# See the License for the specific language governing permissions and\n",
        "# limitations under the License."
      ]
    },
    {
      "cell_type": "code",
      "source": [
        "#@title Install Dependencies\n",
        "\n",
        "!pip install mapclassify xyzservices\n",
        "\n",
        "from google.colab import auth\n",
        "from google.cloud import bigquery\n",
        "\n",
        "\n",
        "# import numpy as np\n",
        "import pandas as pd\n",
        "import geopandas as gpd\n",
        "\n",
        "import folium\n",
        "import mapclassify\n",
        "import xyzservices\n",
        "\n",
        "tiles =  xyzservices.TileProvider.from_qms(\"Google Satellite Hybrid\")"
      ],
      "metadata": {
        "id": "s5hx88oW-dVe"
      },
      "execution_count": null,
      "outputs": []
    },
    {
      "cell_type": "markdown",
      "source": [
        "### 1. Authenticate and Initialize EE and BQ\n"
      ],
      "metadata": {
        "id": "FZPtk9O0-kzx"
      }
    },
    {
      "cell_type": "code",
      "source": [
        "# Change to a project where you have EE access and EE User Role as well as BigQuery User.\n",
        "project_id = \"your-project-id\"  # @param {type: \"string\", placeholder: \"[your-project-id]\", isTemplate: true}\n",
        "\n",
        "\n",
        "auth.authenticate_user()\n",
        "client = bigquery.Client(project=project_id)"
      ],
      "metadata": {
        "id": "CpUvdDsV-hTL"
      },
      "execution_count": null,
      "outputs": []
    },
    {
      "cell_type": "markdown",
      "source": [
        "### 2. Create a GeoDataFrame of Forest Data Partnership Example Plots\n",
        "\n",
        "This [data comes from the Forest Data Parternship](https://raw.githubusercontent.com/forestdatapartnership/whisp/main/tests/fixtures/geojson_example.geojson)"
      ],
      "metadata": {
        "id": "TxmNBQgs-nVk"
      }
    },
    {
      "cell_type": "code",
      "source": [
        "query = '''FROM ee-demos.WHISP_DEMO.input_examples plot\n",
        "|> EXTEND\n",
        "  ST_RegionStats(geometry,\n",
        "                'ee://earthengine_public_data/fdap/forest_persistence_2020',\n",
        "                'value',\n",
        "                include => 'value >= 0.5') AS forest_2020,\n",
        "  ST_RegionStats(geometry, 'ee://earthengine_public_data/fdap/cocoa_2023',\n",
        "                'probability', include => 'probability >= 0.7') AS cocoa_2023,\n",
        "  ST_RegionStats(geometry, 'ee://earthengine_public_data/fdap/palm_2023',\n",
        "                'probability', include => 'probability >= 0.7') AS palm_2023,\n",
        "  ST_RegionStats(geometry, 'ee://earthengine_public_data/fdap/rubber_2023',\n",
        "                'probability', include => 'probability >= 0.7') AS rubber_2023,\n",
        "  ST_Area(geometry) AS plotArea,\n",
        "|> EXTEND cocoa_2023.area + palm_2023.area + rubber_2023.area AS commodityArea2023\n",
        "|> WHERE commodityArea2023 > 0\n",
        "     AND commodityArea2023 > plotArea - forest_2020.area\n",
        "|> SELECT plotid, ROUND(plotArea) area,\n",
        "  ROUND(100 * forest_2020.area/plotArea) forestPct2020,\n",
        "  ROUND(100 * commodityArea2023/plotArea) commodityPct2023,\n",
        "  ROUND(100 * cocoa_2023.area/plotArea) cocoaPct2023,\n",
        "  ROUND(100 * palm_2023.area/plotArea) palmPct2023,\n",
        "  ROUND(100 * rubber_2023.area/plotArea) rubberPct2023, geometry;'''\n",
        "\n",
        "# Use the BQ client and ST_RegionStats\n",
        "plots = pd.read_gbq(query,project_id=project_id)\n",
        "\n",
        "# Convert the DataFrame to a GeoDataFrame, using the geometry column\n",
        "plots_gdf = gpd.GeoDataFrame(plots, geometry=gpd.GeoSeries.from_wkt(plots.geometry), crs='epsg:4326')\n"
      ],
      "metadata": {
        "id": "S92aLCHn-oN7"
      },
      "execution_count": null,
      "outputs": []
    },
    {
      "cell_type": "code",
      "source": [
        "import pandas as pd\n",
        "# Identify plots with high forestPct2020 and commodityPct2023\n",
        "high_deforestation_plots = plots_gdf[(plots_gdf['forestPct2020'] > 50) & (plots_gdf['commodityPct2023'] > 50)]\n",
        "\n",
        "# Print the results\n",
        "high_deforestation_plots"
      ],
      "metadata": {
        "id": "dzHAF5B8D0bC"
      },
      "execution_count": null,
      "outputs": []
    },
    {
      "source": [
        "# Find the plot with the highest commodityPct2023\n",
        "max_commodity_plot = plots_gdf.loc[plots_gdf['commodityPct2023'].idxmax()]\n",
        "\n",
        "# Get the coordinates of the highest value plot\n",
        "# Access the centroid's x and y coordinates instead of the Polygon's x and y\n",
        "max_latitude = max_commodity_plot.geometry.centroid.y\n",
        "max_longitude = max_commodity_plot.geometry.centroid.x\n",
        "\n",
        "# Instead of m.zoom_to, set location and zoom_start when creating the map\n",
        "m = folium.Map(location=[max_latitude, max_longitude], zoom_start=17, tiles=tiles, attr=\"Google Maps\")\n",
        "\n",
        "# Add the GeoDataFrame layer to the map\n",
        "plots_gdf.explore(\n",
        "    \"commodityPct2023\",\n",
        "    cmap=\"RdYlGn_r\",\n",
        "    scheme=\"NaturalBreaks\",\n",
        "    tooltip=[\"forestPct2020\", \"commodityPct2023\"],\n",
        "    m=m,  # Add the existing map object\n",
        "    name=\"Likely Deforsted Plots\"\n",
        ")\n",
        "\n",
        "# Display the map\n",
        "m"
      ],
      "cell_type": "code",
      "metadata": {
        "id": "UPwT2BkTEu0i"
      },
      "execution_count": null,
      "outputs": []
    }
  ]
}