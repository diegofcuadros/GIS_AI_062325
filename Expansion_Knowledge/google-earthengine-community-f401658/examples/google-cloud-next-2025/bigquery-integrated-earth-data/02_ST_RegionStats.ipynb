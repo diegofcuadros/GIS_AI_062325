{
  "nbformat": 4,
  "nbformat_minor": 0,
  "metadata": {
    "colab": {
      "provenance": []
    },
    "kernelspec": {
      "name": "python3",
      "display_name": "Python 3"
    },
    "language_info": {
      "name": "python"
    }
  },
  "cells": [
    {
      "cell_type": "code",
      "source": [
        "#@title Copyright 2025 The Earth Engine Community Authors { display-mode: \"form\" }\n",
        "#\n",
        "# Licensed under the Apache License, Version 2.0 (the \"License\");\n",
        "# you may not use this file except in compliance with the License.\n",
        "# You may obtain a copy of the License at\n",
        "#\n",
        "# https://www.apache.org/licenses/LICENSE-2.0\n",
        "#\n",
        "# Unless required by applicable law or agreed to in writing, software\n",
        "# distributed under the License is distributed on an \"AS IS\" BASIS,\n",
        "# WITHOUT WARRANTIES OR CONDITIONS OF ANY KIND, either express or implied.\n",
        "# See the License for the specific language governing permissions and\n",
        "# limitations under the License."
      ],
      "metadata": {
        "id": "q-aDyOZHYtdG"
      },
      "execution_count": null,
      "outputs": []
    },
    {
      "cell_type": "code",
      "execution_count": null,
      "metadata": {
        "id": "ySWBhs8Z7kdm"
      },
      "outputs": [],
      "source": [
        "#@title Install Dependencies\n",
        "\n",
        "!pip install mapclassify xyzservices\n",
        "\n",
        "from google.colab import auth\n",
        "from google.cloud import bigquery\n",
        "\n",
        "\n",
        "# import numpy as np\n",
        "import pandas as pd\n",
        "import geopandas as gpd\n",
        "\n",
        "import folium\n",
        "import mapclassify\n",
        "import xyzservices\n",
        "\n",
        "tiles =  xyzservices.TileProvider.from_qms(\"Google Satellite Hybrid\")"
      ]
    },
    {
      "cell_type": "markdown",
      "source": [],
      "metadata": {
        "id": "t14kmDK1Yrj7"
      }
    },
    {
      "cell_type": "markdown",
      "source": [
        "### 1. Authenticate and Initialize EE and BQ\n",
        "\n"
      ],
      "metadata": {
        "id": "D5UhR9RcApzn"
      }
    },
    {
      "cell_type": "code",
      "source": [
        "# Change to a project where you have EE access and EE User Role as well as BigQuery User.\n",
        "project_id = \"your-project-id\"  # @param {type: \"string\", placeholder: \"[your-project-id]\", isTemplate: true}\n",
        "\n",
        "\n",
        "auth.authenticate_user()\n",
        "client = bigquery.Client(project=project_id)"
      ],
      "metadata": {
        "id": "yhS5Tfa5AGjY"
      },
      "execution_count": null,
      "outputs": []
    },
    {
      "cell_type": "markdown",
      "source": [
        "### 2. Create a GeoDataFrame of Republic of the Congo Départements\n",
        "\n",
        "This data comes from the [Overture Maps data in BigQuery's Public Data Catalog](https://https://carto.com/blog/overture-maps-data-now-on-the-cloud-use-it-with-carto) which is maintained by Google's partner, [Carto](https://carto.com/)"
      ],
      "metadata": {
        "id": "RQbpf8qRA45s"
      }
    },
    {
      "cell_type": "code",
      "source": [
        "query = \"\"\"  SELECT\n",
        "   *,\n",
        "   ST_REGIONSTATS(\n",
        "     geometry,\n",
        "     'ESA/WorldCover/v200/2021',\n",
        "     'Map == 10',\n",
        "     options => JSON '{\"scale\": 1e3}'\n",
        "   ).mean as mean\n",
        " FROM `bigquery-public-data.overture_maps.division_area` where country = 'CG' and subtype = 'region'\n",
        " \"\"\"\n",
        "\n",
        "# Use the BQ client to retrieve the Republic of the Congo Départements into a Pandas DataFrame\n",
        "congo = pd.read_gbq(query,project_id=project_id)\n",
        "\n",
        "# Convert the DataFrame to a GeoDataFrame, using the geometry column\n",
        "congo_mean_forest_gdf = gpd.GeoDataFrame(congo, geometry=gpd.GeoSeries.from_wkt(congo.geometry), crs='epsg:4326')\n"
      ],
      "metadata": {
        "id": "xro6owZ3Bn5d"
      },
      "execution_count": null,
      "outputs": []
    },
    {
      "cell_type": "code",
      "source": [
        "m = congo_mean_forest_gdf.explore(\n",
        "    \"mean\",\n",
        "    cmap=\"RdYlGn\",\n",
        "    scheme=\"NaturalBreaks\",\n",
        "    tooltip=[\"mean\"],\n",
        "    tiles=tiles,\n",
        "    attr=\"Google Maps\",\n",
        "    name=\"Mean Forested %\")\n",
        "\n",
        "m"
      ],
      "metadata": {
        "id": "4D9I7udRCXhj"
      },
      "execution_count": null,
      "outputs": []
    },
    {
      "cell_type": "code",
      "source": [
        "congo_mean_forest_gdf"
      ],
      "metadata": {
        "id": "Mnpk73q_AO9Z"
      },
      "execution_count": null,
      "outputs": []
    }
  ]
}