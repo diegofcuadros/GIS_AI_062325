{
  "nbformat": 4,
  "nbformat_minor": 0,
  "metadata": {
    "colab": {
      "name": "Uploading_image_tiles_as_a_single_asset_using_a_manifest.ipynb",
      "provenance": [],
      "private_outputs": true
    },
    "kernelspec": {
      "name": "python3",
      "display_name": "Python 3"
    }
  },
  "cells": [
    {
      "cell_type": "code",
      "metadata": {
        "id": "fSIfBsgi8dNK"
      },
      "source": [
        "#@title Copyright 2020 Google LLC. { display-mode: \"form\" }\n",
        "# Licensed under the Apache License, Version 2.0 (the \"License\");\n",
        "# you may not use this file except in compliance with the License.\n",
        "# You may obtain a copy of the License at\n",
        "#\n",
        "# https://www.apache.org/licenses/LICENSE-2.0\n",
        "#\n",
        "# Unless required by applicable law or agreed to in writing, software\n",
        "# distributed under the License is distributed on an \"AS IS\" BASIS,\n",
        "# WITHOUT WARRANTIES OR CONDITIONS OF ANY KIND, either express or implied.\n",
        "# See the License for the specific language governing permissions and\n",
        "# limitations under the License."
      ],
      "execution_count": null,
      "outputs": []
    },
    {
      "cell_type": "markdown",
      "metadata": {
        "id": "aV1xZ1CPi3Nw"
      },
      "source": [
        "<table class=\"ee-notebook-buttons\" align=\"left\"><td>\n",
        "<a target=\"_blank\"  href=\"http://colab.research.google.com/github/google/earthengine-community/blob/master/guides/linked/Manifest_image_upload_demo.ipynb\">\n",
        "    <img src=\"https://www.tensorflow.org/images/colab_logo_32px.png\" /> Run in Google Colab</a>\n",
        "</td><td>\n",
        "<a target=\"_blank\"  href=\"https://github.com/google/earthengine-community/blob/master/guides/linked/Manifest_image_upload_demo.ipynb\"><img width=32px src=\"https://www.tensorflow.org/images/GitHub-Mark-32px.png\" /> View source on GitHub</a></td></table>"
      ]
    },
    {
      "cell_type": "markdown",
      "metadata": {
        "id": "RPBL-XjRFNop"
      },
      "source": [
        "# Uploading an image from tiles using a manifest\n",
        "\n",
        "This notebook demonstrates uploading a set of image tiles into a single asset using a manifest file. See [this doc](https://developers.google.com/earth-engine/image_manifest) for more details about manifest upload using the Earth Engine command line tool."
      ]
    },
    {
      "cell_type": "markdown",
      "metadata": {
        "id": "K57gwmayH24H"
      },
      "source": [
        "First, authenticate with Google Cloud, so you can access Cloud Storage buckets."
      ]
    },
    {
      "cell_type": "code",
      "metadata": {
        "id": "a0WqP4vKIM5v"
      },
      "source": [
        "from google.colab import auth\n",
        "auth.authenticate_user()"
      ],
      "execution_count": null,
      "outputs": []
    },
    {
      "cell_type": "markdown",
      "metadata": {
        "id": "1tPSX8ABIB36"
      },
      "source": [
        "## Upload source images to Cloud Storage\n",
        "\n",
        "The source images must exist in a Google Cloud Storage bucket. For this tutorial we have provided six [land cover image tiles](https://data-starcloud.pcl.ac.cn/resource/1) in a [demo bucket](https://console.cloud.google.com/storage/browser/ee-docs-demos/image-manifest). Follow [Cloud Storage instructions](https://cloud.google.com/storage/docs/uploading-objects#uploading-an-object) to upload your own."
      ]
    },
    {
      "cell_type": "markdown",
      "metadata": {
        "id": "nIOsWbLf66F-"
      },
      "source": [
        "## Build the manifest file\n",
        "\n",
        "Build the manifest file from a dictionary.  Turn the dictionary into JSON.  Note the use of the `gsutil` tool to get a listing of files in a Cloud Storage bucket ([learn more about `gsutil`](https://cloud.google.com/storage/docs/gsutil)).  Also note that the structure of the manifest is described in detail [here](https://developers.google.com/earth-engine/image_manifest#manifest-structure-reference).  Because the data are categorical, a `MODE` pyramiding policy is specified.  Learn more about how Earth Engine builds image pyramids [here](https://developers.google.com/earth-engine/scale)."
      ]
    },
    {
      "cell_type": "code",
      "metadata": {
        "id": "DPddpXYrJlap"
      },
      "source": [
        "# Specify the bucket where the source images are stored.\n",
        "GCS_BUCKET = 'gs://ee-docs-demos/image-manifest'\n",
        "\n",
        "# Specify the new asset's path (ensure you have project write permission).\n",
        "ASSET_NAME = 'projects/YOUR-PROJECT/assets/ASSET-NAME'\n",
        "\n",
        "\n",
        "# List the contents of the cloud folder.\n",
        "cloud_files = !gsutil ls {GCS_BUCKET + '/*.tif'}\n",
        "\n",
        "# Get the list of source URIs from the gsutil output.\n",
        "sources_uris = [{'uris': [f]} for f in cloud_files]\n",
        "\n",
        "# The enclosing object for the asset.\n",
        "asset = {\n",
        "  'name': ASSET_NAME,\n",
        "  'tilesets': [\n",
        "    {\n",
        "      'sources': sources_uris\n",
        "    }\n",
        "  ],\n",
        "  'bands': [\n",
        "    {\n",
        "      'id': 'cover_code',\n",
        "      'pyramiding_policy': 'MODE',\n",
        "      'missing_data': {\n",
        "          'values': [0]\n",
        "      }\n",
        "    }\n",
        "  ]\n",
        "}\n",
        "\n",
        "import json\n",
        "print(json.dumps(asset, indent=2))"
      ],
      "execution_count": null,
      "outputs": []
    },
    {
      "cell_type": "markdown",
      "metadata": {
        "id": "D2j6_TbCUiwZ"
      },
      "source": [
        "Inspect the printed JSON for errors."
      ]
    },
    {
      "cell_type": "markdown",
      "metadata": {
        "id": "4MWm6WWbXG9G"
      },
      "source": [
        "## Upload to Earth Engine\n",
        "\n",
        "If you are able to `cat` the written file, run the upload to Earth Engine. First, import the Earth Engine and geemap libraries and initialize to Earth Engine (authentication from `auth.authenticate_user()` above applies)."
      ]
    },
    {
      "cell_type": "code",
      "metadata": {
        "id": "hLFVQeDPXPE0"
      },
      "source": [
        "import ee\n",
        "import geemap\n",
        "\n",
        "ee.Initialize(project='YOUR-PROJECT')"
      ],
      "execution_count": null,
      "outputs": []
    },
    {
      "cell_type": "markdown",
      "source": [
        "Start the ingestion task. It can take 15-20 minutes to complete and the asset size will be 255 MB. If you don't want to run the task, you can view the result in the next section using a publicly readable Google-stored copy of the asset."
      ],
      "metadata": {
        "id": "U4dEb-E-ePt5"
      }
    },
    {
      "cell_type": "code",
      "source": [
        "ee.data.startIngestion(ee.data.newTaskId()[0], asset)"
      ],
      "metadata": {
        "id": "5dwYm1U_C3Lv"
      },
      "execution_count": null,
      "outputs": []
    },
    {
      "cell_type": "markdown",
      "metadata": {
        "id": "vELn42MrZxwY"
      },
      "source": [
        "## Visualize the uploaded image with geemap\n",
        "\n",
        "Once the ingestion task is complete (check https://code.earthengine.google.com/tasks), visualize the asset using [geemap](https://geemap.org/). Here, we load the Google-stored asset, but you can edit the path to load yours if you ran the ingestion task."
      ]
    },
    {
      "cell_type": "code",
      "metadata": {
        "id": "mKQOEbkvPAS0"
      },
      "source": [
        "palette = [\n",
        "    'a3ff73', # farmland, 10\n",
        "    '267300', # forest, 20\n",
        "    'ffff00', # grassland, 30\n",
        "    '70a800', # shrub, 40\n",
        "    '00ffff', # wetland, 50\n",
        "    '005cff', # water, 60\n",
        "    '004600', # tundra, 70\n",
        "    'c500ff', # impervious, 80\n",
        "    'ffaa00', # bare, 90\n",
        "    'd1d1d1', # snow, ice, 100\n",
        "]\n",
        "vis = {'min': 10, 'max': 100, 'palette': palette}\n",
        "\n",
        "# Google-stored asset for demo (optionally change to your copy).\n",
        "ingested_image = ee.Image('projects/google/manifest_upload_demo')\n",
        "\n",
        "\n",
        "m = geemap.Map()\n",
        "m.center_object(ingested_image)\n",
        "m.add_layer(ingested_image, vis, 'land cover')\n",
        "m"
      ],
      "execution_count": null,
      "outputs": []
    }
  ]
}