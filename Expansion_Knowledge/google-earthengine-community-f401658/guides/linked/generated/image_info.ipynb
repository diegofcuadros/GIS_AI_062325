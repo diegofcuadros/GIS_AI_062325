{
 "cells": [
  {
   "cell_type": "code",
   "execution_count": null,
   "metadata": {},
   "outputs": [],
   "source": [
    "#@title Copyright 2021 The Earth Engine Community Authors { display-mode: \"form\" }\n",
    "#\n",
    "# Licensed under the Apache License, Version 2.0 (the \"License\");\n",
    "# you may not use this file except in compliance with the License.\n",
    "# You may obtain a copy of the License at\n",
    "#\n",
    "# https://www.apache.org/licenses/LICENSE-2.0\n",
    "#\n",
    "# Unless required by applicable law or agreed to in writing, software\n",
    "# distributed under the License is distributed on an \"AS IS\" BASIS,\n",
    "# WITHOUT WARRANTIES OR CONDITIONS OF ANY KIND, either express or implied.\n",
    "# See the License for the specific language governing permissions and\n",
    "# limitations under the License."
   ]
  },
  {
   "cell_type": "markdown",
   "metadata": {},
   "source": [
    "# Image Information and Metadata\n",
    "\n"
   ]
  },
  {
   "cell_type": "markdown",
   "metadata": {},
   "source": [
    "Print image objects to explore band names, projection information, properties, and other metadata. The following examples demonstrate printing the entire set of image metadata as well as requesting specific metadata elements programmatically."
   ]
  },
  {
   "cell_type": "markdown",
   "metadata": {},
   "source": [
    "## Setup"
   ]
  },
  {
   "cell_type": "markdown",
   "metadata": {},
   "source": [
    "### Earth Engine setup"
   ]
  },
  {
   "cell_type": "code",
   "execution_count": null,
   "metadata": {},
   "outputs": [],
   "source": [
    "import ee\n",
    "ee.Authenticate()\n",
    "ee.Initialize()"
   ]
  },
  {
   "cell_type": "markdown",
   "metadata": {},
   "source": [
    "### Import `geemap`"
   ]
  },
  {
   "cell_type": "code",
   "execution_count": null,
   "metadata": {},
   "outputs": [],
   "source": [
    "import geemap.core as geemap"
   ]
  },
  {
   "cell_type": "markdown",
   "metadata": {},
   "source": [
    "## Getting metadata"
   ]
  },
  {
   "cell_type": "code",
   "execution_count": null,
   "metadata": {},
   "outputs": [],
   "source": [
    "# Load an image.\n",
    "image = ee.Image('LANDSAT/LC08/C02/T1/LC08_044034_20140318')\n",
    "\n",
    "# All metadata.\n",
    "display('All metadata:', image)\n",
    "\n",
    "# Get information about the bands as a list.\n",
    "band_names = image.bandNames()\n",
    "display('Band names:', band_names)  # ee.List of band names\n",
    "\n",
    "# Get projection information from band 1.\n",
    "b1_proj = image.select('B1').projection()\n",
    "display('Band 1 projection:', b1_proj)  # ee.Projection object\n",
    "\n",
    "# Get scale (in meters) information from band 1.\n",
    "b1_scale = image.select('B1').projection().nominalScale()\n",
    "display('Band 1 scale:', b1_scale)  # ee.Number\n",
    "\n",
    "# Note that different bands can have different projections and scale.\n",
    "b8_scale = image.select('B8').projection().nominalScale()\n",
    "display('Band 8 scale:', b8_scale)  # ee.Number\n",
    "\n",
    "# Get a list of all metadata properties.\n",
    "properties = image.propertyNames()\n",
    "display('Metadata properties:', properties)  # ee.List of metadata properties\n",
    "\n",
    "# Get a specific metadata property.\n",
    "cloudiness = image.get('CLOUD_COVER')\n",
    "display('CLOUD_COVER:', cloudiness)  # ee.Number\n",
    "\n",
    "# Get version number (ingestion timestamp as microseconds since Unix epoch).\n",
    "version = image.get('system:version')\n",
    "display('Version:', version)  # ee.Number\n",
    "display(\n",
    "    'Version (as ingestion date):',\n",
    "    ee.Date(ee.Number(version).divide(1000)).format(),\n",
    ")  # ee.Date\n",
    "\n",
    "# Get the timestamp.\n",
    "ee_date = ee.Date(image.get('system:time_start'))\n",
    "display('Timestamp:', ee_date)  # ee.Date\n",
    "\n",
    "# Date objects transferred to the client are milliseconds since UNIX epoch;\n",
    "# convert to human readable date with ee.Date.format().\n",
    "display('Datetime:', ee_date.format())  # ISO standard date string"
   ]
  }
 ],
 "metadata": {
  "colab": {
   "name": "Image Information and Metadata"
  }
 },
 "nbformat": 4,
 "nbformat_minor": 2
}
