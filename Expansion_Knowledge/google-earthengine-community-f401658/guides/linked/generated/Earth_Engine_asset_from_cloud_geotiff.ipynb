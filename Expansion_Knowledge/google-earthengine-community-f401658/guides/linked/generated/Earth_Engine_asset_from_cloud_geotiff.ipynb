{
 "cells": [
  {
   "cell_type": "markdown",
   "metadata": {},
   "source": [
    "# Cloud GeoTiff-Backed Earth Engine Assets\n",
    "\n",
    "Project: /earth-engine/_project.yaml Book: /earth-engine/_book.yaml"
   ]
  },
  {
   "cell_type": "code",
   "execution_count": null,
   "metadata": {},
   "outputs": [],
   "source": [
    "#@title Copyright 2022 The Earth Engine Community Authors { display-mode: \"form\" }\n",
    "#\n",
    "# Licensed under the Apache License, Version 2.0 (the \"License\");\n",
    "# you may not use this file except in compliance with the License.\n",
    "# You may obtain a copy of the License at\n",
    "#\n",
    "# https://www.apache.org/licenses/LICENSE-2.0\n",
    "#\n",
    "# Unless required by applicable law or agreed to in writing, software\n",
    "# distributed under the License is distributed on an \"AS IS\" BASIS,\n",
    "# WITHOUT WARRANTIES OR CONDITIONS OF ANY KIND, either express or implied.\n",
    "# See the License for the specific language governing permissions and\n",
    "# limitations under the License."
   ]
  },
  {
   "cell_type": "markdown",
   "metadata": {},
   "source": [
    "Earth Engine supports assets backed by Cloud Optimized GeoTIFFs (COGs). An\n",
    "advantage of COG-backed assets is that the spatial and metadata fields of the\n",
    "image will be indexed at asset creation time, making the image more performant\n",
    "in collections. The performance of COG-backed assets is comparable to that of\n",
    "ingested assets in typical use cases.\n",
    "\n",
    "Note that a single asset can be backed by multiple COGs (for example, there\n",
    "can be one COG per band). However, using many COG tiles for a single band is\n",
    "not supported.\n",
    "\n",
    "(Alternatively, Earth Engine can directly load images from COGs in Google Cloud Storage ([learn more](https://developers.google.com/earth-engine/guides/image_overview#images-from-cloud-geotiffs)). However, an image loaded through `ee.Image.loadGeoTIFF` and added to an image collection will require a read of the GeoTiff for filtering operations on the collection.)\n",
    "\n",
    "To create a COG-backed asset,\n",
    "\n",
    "  1. Place your COG files into a GCS bucket (see below for allowed regions).\n",
    "  2. Write an [image upload manifest](https://developers.google.com/earth-engine/guides/image_manifest)\n",
    "  3. Use the `earthengine` command-line utility to send an upload command:"
   ]
  },
  {
   "cell_type": "code",
   "execution_count": null,
   "metadata": {},
   "outputs": [],
   "source": [
    "!earthengine upload external_image --manifest my_manifest.json"
   ]
  },
  {
   "cell_type": "markdown",
   "metadata": {},
   "source": [
    "## Sample image manifest with one `Tileset`\n",
    "\n",
    "The simplest `ImageManifest` is one with a single `Tileset`. If no bands are\n",
    "specified, the resulting asset will contain all the bands of the GeoTIFF with\n",
    "the band names encoded in the GeoTIFF (in this case, \"vis-red\", \"vis-green\",\n",
    "and \"vis-blue\")."
   ]
  },
  {
   "cell_type": "code",
   "execution_count": null,
   "metadata": {},
   "outputs": [],
   "source": [
    "request = {\n",
    "  'imageManifest': {\n",
    "    'name': f'projects/{ee_project}/assets/cogdemo1',\n",
    "    'tilesets': [\n",
    "      { 'id': '0', 'sources': [ { 'uris': ['gs://ee-docs-demos/COG_demo.tif'] } ] }\n",
    "    ],\n",
    "    'properties': {\n",
    "      'version': '1.1'\n",
    "    },\n",
    "    'startTime': '2016-01-01T00:00:00.000000000Z',\n",
    "    'endTime': '2016-12-31T15:01:23.000000000Z',\n",
    "  },\n",
    "}\n",
    "\n",
    "pprint(request)"
   ]
  },
  {
   "cell_type": "markdown",
   "metadata": {},
   "source": [
    "## More than one `Tileset`\n",
    "\n",
    "It is possible to specify an `ImageManifest` with more than one `Tileset`\n",
    "where each band of the resulting asset is backed by one of the bands of a\n",
    "`Tileset` using the `tilesetId` and `tilesetBandIndex` fields. This is useful\n",
    "in the case when different bands have different resolutions or data types.\n",
    "Bands can be listed in any order from any available `Tileset`. In the example\n",
    "below:\n",
    "\n",
    "  * \"b4b3b2.tif\" has a 10 m scale, while \"b5b6b7\" has a 20 m scale.\n",
    "  * The band order of the resulting asset is mixed from the input COGs (e.g. output band 0 is from `Tileset` 0, while output band 1 is from `Tileset` 1)."
   ]
  },
  {
   "cell_type": "code",
   "execution_count": null,
   "metadata": {},
   "outputs": [],
   "source": [
    "request = {\n",
    "  'imageManifest': {\n",
    "    'name': f'projects/{ee_project}/assets/cogdemo2',\n",
    "    'uriPrefix': 'gs://ee-docs-demos/external_image_demo/',\n",
    "    'tilesets': [\n",
    "      { 'id': '0', 'sources': [ { 'uris': ['b4b3b2.tif'] } ] },\n",
    "      { 'id': '1', 'sources': [ { 'uris': ['b5b6b7.tif'] } ] },\n",
    "    ],\n",
    "    'bands': [\n",
    "      { 'id': 'red', 'tilesetId': '0', 'tilesetBandIndex': 0 },\n",
    "      { 'id': 'rededge3', 'tilesetId': '1', 'tilesetBandIndex': 2 },\n",
    "      { 'id': 'rededge2', 'tilesetId': '1', 'tilesetBandIndex': 1 },\n",
    "      { 'id': 'green', 'tilesetId': '0', 'tilesetBandIndex': 1 },\n",
    "      { 'id': 'blue', 'tilesetId': '1', 'tilesetBandIndex': 0 },\n",
    "      { 'id': 'rededge1', 'tilesetId': '0', 'tilesetBandIndex': 2 },\n",
    "    ],\n",
    "  },\n",
    "}\n",
    "\n",
    "pprint(request)"
   ]
  },
  {
   "cell_type": "markdown",
   "metadata": {},
   "source": [
    "## Details on COG-backed assets\n",
    "\n",
    "### Location\n",
    "\n",
    "The Cloud Storage bucket location must be one of:\n",
    "\n",
    "  * The US multi-region\n",
    "  * Any US dual-region that includes US-CENTRAL1\n",
    "  * The region US-CENTRAL1\n",
    "\n",
    "### Storage class\n",
    "\n",
    "The [storage class](https://cloud.google.com/storage/docs/storage-classes#classes) of the bucket must be \"Standard storage\".\n",
    "\n",
    "### Permissions for sharing\n",
    "\n",
    "The ACLs of COG-backed Earth Engine assets and the underlying data are managed\n",
    "separately. When sharing COG-backed assets with collaborators for reading,\n",
    "**it is the owner's responsibility to ensure that read access is granted to\n",
    "both the Earth Engine asset and the underlying COG files.**\n",
    "\n",
    "#### 1\\. Grant Google Cloud Storage bucket permissions for reading\n",
    "\n",
    "For collaborators to read COG-backed assets, they must first have read access\n",
    "to the underlying COG files in the Google Cloud Storage bucket. Without these\n",
    "permissions, Earth Engine won't be able to retrieve the data for them. If the\n",
    "data in Google Cloud Storage is not visible to an Earth Engine user, Earth\n",
    "Engine will return an error of the form \"Failed to load the GeoTIFF at\n",
    "`gs://my-bucket/my-object#123456`\" (where 123456 is the generation of the\n",
    "object).\n",
    "\n",
    "Specifically, collaborators must have the following permissions:\n",
    "\n",
    "  * `storage.buckets.get` on the bucket (to retrieve bucket metadata and location, allowing Earth Engine to properly resolve the asset's source).\n",
    "  * `storage.objects.get` on the bucket (to read the actual COG-backed asset data).\n",
    "\n",
    "These permissions are provided by the roles **\"Storage Legacy Bucket Reader\"** and **\"Storage Legacy Object Reader\"** respectively, [among others](https://cloud.google.com/storage/docs/access-control/iam-roles).\n",
    "\n",
    "To assign these roles to collaborators:\n",
    "\n",
    "  1. Go to the bucket permission page: `https://console.cloud.google.com/storage/browser/{MY-BUCKET};tab=permissions`\n",
    "  2. Click \" **GRANT ACCESS** \"\n",
    "  3. Add all principals (e.g., users, groups, service accounts) who should be granted read access.\n",
    "  4. Assign the following roles:"
   ]
  },
  {
   "cell_type": "code",
   "execution_count": null,
   "metadata": {},
   "outputs": [],
   "source": [
    "* **\"Storage Legacy Bucket Reader\"** (provides `storage.buckets.get` and other bucket-level read permissions).\n",
    "* **\"Storage Legacy Object Reader\"** (provides `storage.objects.get`).\n",
    "* (Alternatively, you could create a new custom role with just the `storage.buckets.get` and `storage.objects.get` permissions and assign that.)"
   ]
  },
  {
   "cell_type": "markdown",
   "metadata": {},
   "source": [
    "5. Save\n",
    "\n",
    "#### 2\\. Share the Earth Engine asset for reading\n",
    "\n",
    "After ensuring your collaborators have the necessary permissions on the underlying GCS bucket and objects, you must also share the Earth Engine asset itself. For more information on setting Earth Engine asset permissions, refer to the [Earth Engine asset management guide](https://developers.google.com/earth-engine/guides/manage_assets#set_asset_permissions).\n",
    "\n",
    "### Generations\n",
    "\n",
    "When a COG-backed asset is created, Earth Engine reads the metadata of TIFFs specified in the manifest and creates an asset store entry. Each URI associated with that entry can have a generation. See the [object versioning docs](https://cloud.google.com/storage/docs/object-versioning) for details on generations. If a generation is specified, for example `gs://foo/bar#123`, Earth Engine will store that URI verbatim. If a generation is not specified, Earth Engine will store that URI with the generation of the TIFF at the time `ImportExternalImage` was called.\n",
    "\n",
    "That means that if any TIFF comprising an external asset in GCS is updated\n",
    "(therefore changing its generation), Earth Engine will return a \"Failed to\n",
    "load the GeoTIFF at `gs://my-bucket/my-object#123456`\" error because the\n",
    "expected object no longer exists (unless the bucket enables multiple object\n",
    "versions). This policy is designed to keep metadata of the asset in sync with\n",
    "the metadata of the object.\n",
    "\n",
    "### Configuration\n",
    "\n",
    "In terms of how a COG should be configured, the TIFF MUST be:\n",
    "\n",
    "  * Tiled, where the tile dimensions are either:"
   ]
  },
  {
   "cell_type": "code",
   "execution_count": null,
   "metadata": {},
   "outputs": [],
   "source": [
    "* 256x256\n",
    "* 512x512\n",
    "* 1024x1024\n",
    "* 2048x2048"
   ]
  },
  {
   "cell_type": "markdown",
   "metadata": {},
   "source": [
    "* Arranged so that all IFDs are at the beginning.\n",
    "\n",
    "For best performance:\n",
    "\n",
    "  * Use tile dimensions of 512x512 or higher.\n",
    "  * Include power of 2 overviews.\n",
    "\n",
    "Depending on your intended use cases, the ['INTERLEAVE'](https://gdal.org/en/stable/drivers/raster/gtiff.html#creation-options) creation option may affect performance. We recommend using BAND interleave in all circumstances.\n",
    "\n",
    "See [this page](https://cogeotiff.github.io/rio-cogeo/Advanced/#web-optimized-cog) for more details on an optimized configuration.\n",
    "\n",
    "The following `gdal_translate` command will convert a raster into a band-\n",
    "interleaved, zstd-compressed, Cloud Optimized GeoTIFF that will perform well\n",
    "in Earth Engine:"
   ]
  },
  {
   "cell_type": "code",
   "execution_count": null,
   "metadata": {},
   "outputs": [],
   "source": [
    "gdal_translate in.tif out.tif \\\n",
    "  -co COPY_SRC_OVERVIEWS=YES \\\n",
    "  -co TILED=YES \\\n",
    "  -co BLOCKXSIZE=512 \\\n",
    "  -co BLOCKYSIZE=512 \\\n",
    "  -co COMPRESS=ZSTD \\\n",
    "  -co ZSTD_LEVEL=22 \\\n",
    "  -co INTERLEAVE=BAND \\\n",
    "  -co NUM_THREADS=ALL_CPUS"
   ]
  },
  {
   "cell_type": "markdown",
   "metadata": {},
   "source": [
    "It may be possible to reduce the output file size further by specifying a [predictor](https://gdal.org/en/stable/drivers/raster/gtiff.html#creation-options) (`-co PREDICTOR=2` for integer data types and `-co PREDICTOR=3` for floating point data types).\n",
    "\n",
    "For users with GDAL >= 3.11, the [COG driver](https://gdal.org/en/stable/drivers/raster/cog.html) can produce files without having to worry about creating and preserving overviews."
   ]
  },
  {
   "cell_type": "code",
   "execution_count": null,
   "metadata": {},
   "outputs": [],
   "source": [
    "gdal_translate in.tif out.tif \\\n",
    "  -of COG \\\n",
    "  -co OVERVIEWS=IGNORE_EXISTING \\\n",
    "  -co COMPRESS=ZSTD \\\n",
    "  -co LEVEL=22 \\\n",
    "  -co PREDICTOR=2 \\\n",
    "  -co INTERLEAVE=BAND \\\n",
    "  -co NUM_THREADS=ALL_CPUS \\"
   ]
  },
  {
   "cell_type": "markdown",
   "metadata": {},
   "source": [
    "## Creating Cloud GeoTiff-Backed Assets using the REST API\n",
    "\n",
    "**_Note:_** _The REST API contains new and advanced features that may not be suitable for all users. If you are new to Earth Engine, we recommend getting started with the[JavaScript guide](https://developers.google.com/earth-engine/guides/getstarted)._\n",
    "\n",
    "To create a COG-backed asset using the REST API, make a `POST` request to the Earth Engine [`ImportExternalImage` endpoint](https://developers.google.com/earth-engine/reference/rest/v1alpha/projects.assets/create). As shown in the following, this request must be authorized to create an asset in your user folder.\n",
    "\n",
    "## Start an authorized session\n",
    "\n",
    "To be able to make an Earth Engine asset in your user folder, you need to be able to authenticate as yourself when you make the request. You can use credentials from the Earth Engine authenticator to start an [`AuthorizedSession`](https://google-auth.readthedocs.io/en/master/reference/google.auth.transport.requests.html#google.auth.transport.requests.AuthorizedSession). You can then use the `AuthorizedSession` to send requests to Earth Engine."
   ]
  },
  {
   "cell_type": "code",
   "execution_count": null,
   "metadata": {},
   "outputs": [],
   "source": [
    "import ee\n",
    "import json\n",
    "from pprint import pprint\n",
    "from google.auth.transport.requests import AuthorizedSession\n",
    "\n",
    "ee.Authenticate()  #  or !earthengine authenticate --auth_mode=gcloud\n",
    "\n",
    "# Specify the cloud project you want associated with Earth Engine requests.\n",
    "ee_project = 'your-project'\n",
    "\n",
    "session = AuthorizedSession(\n",
    "    ee.data.get_persistent_credentials().with_quota_project(ee_project)\n",
    ")"
   ]
  },
  {
   "cell_type": "markdown",
   "metadata": {},
   "source": [
    "## Request body\n",
    "\n",
    "The request body is an instance of an [`ImageManifest`](https://developers.google.com/earth-engine/reference/rest/v1alpha/projects.image/import#ImageManifest). This is where the path to the COG is specified, along with other useful properties.\n",
    "\n",
    "See [this guide](https://developers.google.com/earth-engine/guides/image_manifest) for details on how to configure an `ImageManifest`. It is possible to define one or more `Tileset` with each backing one or more bands. For `ImportExternalImage`, at most one `ImageSource` is supported per `Tileset`.\n",
    "\n",
    "See [this doc](https://developers.google.com/earth-engine/exporting#configuration-parameters) for details on exporting COGs.\n",
    "\n",
    "## Send the request\n",
    "\n",
    "Make the POST request to the Earth Engine [`projects.images.importExternal`](https://developers.google.com/earth-engine/reference/rest/v1alpha/projects.images/importExternal) endpoint."
   ]
  },
  {
   "cell_type": "code",
   "execution_count": null,
   "metadata": {},
   "outputs": [],
   "source": [
    "url = f'https://earthengine.googleapis.com/v1alpha/projects/{ee_project}/image:importExternal'\n",
    "\n",
    "response = session.post(\n",
    "  url = url,\n",
    "  data = json.dumps(request)\n",
    ")\n",
    "\n",
    "pprint(json.loads(response.content))"
   ]
  }
 ],
 "metadata": {
  "colab": {
   "name": "Cloud GeoTiff-Backed Earth Engine Assets"
  }
 },
 "nbformat": 4,
 "nbformat_minor": 2
}
