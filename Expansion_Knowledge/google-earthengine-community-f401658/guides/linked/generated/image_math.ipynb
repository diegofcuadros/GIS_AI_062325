{
  "cells": [
    {
      "cell_type": "markdown",
      "metadata": {
        "id": "LimccvLqDWdI"
      },
      "source": [
        "# Mathematical Operations\n",
        "\n",
        "#@title Copyright 2021 The Earth Engine Community Authors { display-mode: \"form\" }"
      ]
    },
    {
      "cell_type": "code",
      "execution_count": null,
      "metadata": {
        "id": "xJv9dJCyDWdI"
      },
      "outputs": [],
      "source": [
        "#\n",
        "# Licensed under the Apache License, Version 2.0 (the \"License\");\n",
        "# you may not use this file except in compliance with the License.\n",
        "# You may obtain a copy of the License at\n",
        "#\n",
        "# https://www.apache.org/licenses/LICENSE-2.0\n",
        "#\n",
        "# Unless required by applicable law or agreed to in writing, software\n",
        "# distributed under the License is distributed on an \"AS IS\" BASIS,\n",
        "# WITHOUT WARRANTIES OR CONDITIONS OF ANY KIND, either express or implied.\n",
        "# See the License for the specific language governing permissions and\n",
        "# limitations under the License."
      ]
    },
    {
      "cell_type": "markdown",
      "metadata": {
        "id": "9k4NeVBtDWdJ"
      },
      "source": [
        "Image math can be performed using operators like `add()` and `subtract()`, but for complex computations with more than a couple of terms, the `expression()` function provides a good alternative. See the following sections for more information on [operators](https://developers.google.com#operators) and [expressions](https://developers.google.com#expressions).\n",
        "\n",
        "## Setup\n",
        "\n",
        "### Earth Engine setup"
      ]
    },
    {
      "cell_type": "code",
      "execution_count": 1,
      "metadata": {
        "colab": {
          "height": 280
        },
        "executionInfo": {
          "elapsed": 5739,
          "status": "error",
          "timestamp": 1734379166089,
          "user": {
            "displayName": "",
            "userId": ""
          },
          "user_tz": 480
        },
        "id": "pPcoOvRIDWdJ",
        "outputId": "191141a1-4195-4f96-d46a-0f0a617757cc"
      },
      "outputs": [
        {
          "debug": {
            "argv": [
              "/export/hda3/borglet/remote_hdd_fs_dirs/0.colab_kernel_pool_default_7_gvisor.kernel.colaboratory-playground.5267937554325.14b334fb3717c109/mount/server/notebook_vnext.par",
              "kernel",
              "-f",
              "/tmp/ipy-be-o77lvxvc/profile_colab/security/kernel-2a420033-d1e6-45ea-a2f2-8c2c2d12d770.json",
              "--profile-dir=/tmp/ipy-be-o77lvxvc/profile_colab",
              "--profile=colab",
              "--ipython-dir=/tmp/ipy-be-sykvur8g",
              "--no-secure"
            ],
            "build": "Built on Fri Dec 13 09:02:53 2024 (1734109373)\nBuilt by colaboratory-platform-releaser@oosr7.prod.google.com:/google/src/cloud/buildrabbit-username/buildrabbit-client/google3\nBuilt as //research/colab/notebook:notebook_backend_vnext\nBuild ID: 9d260894-b32e-47f6-a26c-b261003b0571\nBuilt from changelist 705880478 in a mint client based on //depot/google3\nBuild label: colab_runtime_default_runtime_20241213_0901_RC00\nBuild platform: gcc-4.X.Y-crosstool-v18-llvm-grtev4-k8.k8\nBuild tool: Blaze, release blaze-2024.12.08-1 (mainline @703883733)\nBuilt with par options [\"--compress\", \"--compress_level=6\", \"--extra_strip=always\"]\nCurrently running under Python 3.11.8: embedded.\n",
            "user": "colaboratory-playground"
          },
          "ename": "ModuleNotFoundError",
          "evalue": "No module named 'ee'",
          "output_type": "error",
          "traceback": [
            "\u001b[0;31mModuleNotFoundError:\u001b[0m No module named 'ee'",
            "",
            "\nConsider using a custom runtime: go/colab_binary",
            "\u001b[0;31m---------------------------------------------------------------------------\u001b[0m",
            "\u001b[0;31mModuleNotFoundError\u001b[0m                       Traceback (most recent call last)",
            "\u001b[0;32m\u003cipython-input-1-02ba95c5ab09\u003e\u001b[0m in \u001b[0;36m\u003ccell line: 0\u003e\u001b[0;34m()\u001b[0m\n\u001b[0;32m----\u003e 1\u001b[0;31m \u001b[0;32mimport\u001b[0m \u001b[0mee\u001b[0m\u001b[0;34m\u001b[0m\u001b[0;34m\u001b[0m\u001b[0m\n\u001b[0m\u001b[1;32m      2\u001b[0m \u001b[0mee\u001b[0m\u001b[0;34m.\u001b[0m\u001b[0mAuthenticate\u001b[0m\u001b[0;34m(\u001b[0m\u001b[0;34m)\u001b[0m\u001b[0;34m\u001b[0m\u001b[0;34m\u001b[0m\u001b[0m\n\u001b[1;32m      3\u001b[0m \u001b[0mee\u001b[0m\u001b[0;34m.\u001b[0m\u001b[0mInitialize\u001b[0m\u001b[0;34m(\u001b[0m\u001b[0mproject\u001b[0m\u001b[0;34m=\u001b[0m\u001b[0;34m'ee-braaten'\u001b[0m\u001b[0;34m)\u001b[0m\u001b[0;34m\u001b[0m\u001b[0;34m\u001b[0m\u001b[0m\n",
            "\u001b[0;31mModuleNotFoundError\u001b[0m: No module named 'ee'"
          ]
        }
      ],
      "source": [
        "import ee\n",
        "ee.Authenticate()\n",
        "ee.Initialize(project='ee-braaten')"
      ]
    },
    {
      "cell_type": "markdown",
      "metadata": {
        "id": "OPkPweqJDWdJ"
      },
      "source": [
        "### Import `geemap`"
      ]
    },
    {
      "cell_type": "code",
      "execution_count": null,
      "metadata": {
        "id": "8D_Ns1jcDWdJ"
      },
      "outputs": [],
      "source": [
        "import geemap.core as geemap"
      ]
    },
    {
      "cell_type": "markdown",
      "metadata": {
        "id": "n58phtlWDWdJ"
      },
      "source": [
        "## Operators\n",
        "\n",
        "Math operators perform basic arithmetic operations on image bands. They take\n",
        "two inputs: either two images or one image and a constant term, which is\n",
        "interpreted as a single-band constant image with no masked pixels. Operations\n",
        "are performed per pixel for each band.\n",
        "\n",
        "As a basic example, consider the task of calculating the Normalized Difference\n",
        "Vegetation Index (NDVI) using VIIRS imagery, where `add()`, `subtract()`, and\n",
        "`divide()` operators are used:"
      ]
    },
    {
      "cell_type": "code",
      "execution_count": null,
      "metadata": {
        "id": "Ovq7iQuqDWdK"
      },
      "outputs": [],
      "source": [
        "# Load a VIIRS 8-day surface reflectance composite for May 2024.\n",
        "viirs202405 = (\n",
        "    ee.ImageCollection('NASA/VIIRS/002/VNP09H1')\n",
        "    .filter(ee.Filter.date('2024-05-01', '2024-05-16'))\n",
        "    .first()\n",
        ")\n",
        "\n",
        "# Compute NDVI.\n",
        "ndvi202405 = (\n",
        "    viirs202405.select('SurfReflect_I2')\n",
        "    .subtract(viirs202405.select('SurfReflect_I1'))\n",
        "    .divide(\n",
        "        viirs202405.select('SurfReflect_I2').add(\n",
        "            viirs202405.select('SurfReflect_I1')\n",
        "        )\n",
        "    )\n",
        ")"
      ]
    },
    {
      "cell_type": "markdown",
      "metadata": {
        "id": "9v1fmmAbDWdK"
      },
      "source": [
        "**Note:** the normalized difference operation is available as a shortcut method: [`normalizedDifference()`](https://developers.google.com/earth-engine/apidocs/ee-image-normalizeddifference).\n",
        "\n",
        "Only the intersection of unmasked pixels between the two inputs are considered\n",
        "and returned as unmasked, all else are masked. In general, if either input has\n",
        "only one band, then it is used against all the bands in the other input. If\n",
        "the inputs have the same number of bands, but not the same names, they're used\n",
        "pairwise in the natural order. The output bands are named for the longer of\n",
        "the two inputs, or if they're equal in length, in the first input's order. The\n",
        "type of the output pixels is the union of the input types.\n",
        "\n",
        "The following example of multi-band image subtraction demonstrates how bands\n",
        "are matched automatically, resulting in a \"change vector\" for each pixel for\n",
        "each co-occurring band."
      ]
    },
    {
      "cell_type": "code",
      "execution_count": null,
      "metadata": {
        "id": "xK42TtIZDWdK"
      },
      "outputs": [],
      "source": [
        "# Load a VIIRS 8-day surface reflectance composite for September 2024.\n",
        "viirs202409 = (\n",
        "    ee.ImageCollection('NASA/VIIRS/002/VNP09H1')\n",
        "    .filter(ee.Filter.date('2024-09-01', '2024-09-16'))\n",
        "    .first()\n",
        ")\n",
        "\n",
        "# Compute multi-band difference between the September composite and the\n",
        "# previously loaded May composite.\n",
        "diff = viirs202409.subtract(ndvi202405)\n",
        "\n",
        "m = geemap.Map()\n",
        "m.add_layer(\n",
        "    diff,\n",
        "    {\n",
        "        'bands': ['SurfReflect_I1', 'SurfReflect_I2', 'SurfReflect_I3'],\n",
        "        'min': -1,\n",
        "        'max': 1,\n",
        "    },\n",
        "    'difference',\n",
        ")\n",
        "\n",
        "# Compute the squared difference in each band.\n",
        "squared_difference = diff.pow(2)\n",
        "\n",
        "m.add_layer(\n",
        "    squared_difference,\n",
        "    {\n",
        "        'bands': ['SurfReflect_I1', 'SurfReflect_I2', 'SurfReflect_I3'],\n",
        "        'min': 0,\n",
        "        'max': 0.7,\n",
        "    },\n",
        "    'squared diff.',\n",
        ")\n",
        "display(m)"
      ]
    },
    {
      "cell_type": "markdown",
      "metadata": {
        "id": "9Bqih_hQDWdK"
      },
      "source": [
        "In the second part of this example, the squared difference is computed using `image.pow(2)`. For the complete list of mathematical operators handling basic arithmetic, trigonometry, exponentiation, rounding, casting, bitwise operations and more, see the [API documentation](https://developers.google.com/earth-engine/apidocs).\n",
        "\n",
        "## Expressions\n",
        "\n",
        "To implement more complex mathematical expressions, consider using\n",
        "`image.expression()`, which parses a text representation of a math operation.\n",
        "The following example uses `expression()` to compute the Enhanced Vegetation\n",
        "Index (EVI):"
      ]
    },
    {
      "cell_type": "code",
      "execution_count": null,
      "metadata": {
        "id": "hHyKd9cBDWdK"
      },
      "outputs": [],
      "source": [
        "# Load a Landsat 8 image.\n",
        "image = ee.Image('LANDSAT/LC08/C02/T1_TOA/LC08_044034_20140318')\n",
        "\n",
        "# Compute the EVI using an expression.\n",
        "evi = image.expression(\n",
        "    '2.5 * ((NIR - RED) / (NIR + 6 * RED - 7.5 * BLUE + 1))',\n",
        "    {\n",
        "        'NIR': image.select('B5'),\n",
        "        'RED': image.select('B4'),\n",
        "        'BLUE': image.select('B2'),\n",
        "    },\n",
        ")\n",
        "\n",
        "# Define a map centered on San Francisco Bay.\n",
        "map_evi = geemap.Map(center=[37.4675, -122.1363], zoom=9)\n",
        "\n",
        "# Add the image layer to the map and display it.\n",
        "map_evi.add_layer(\n",
        "    evi, {'min': -1, 'max': 1, 'palette': ['a6611a', 'f5f5f5', '4dac26']}, 'evi'\n",
        ")\n",
        "display(map_evi)"
      ]
    },
    {
      "cell_type": "markdown",
      "metadata": {
        "id": "y0qpaejgDWdL"
      },
      "source": [
        "Observe that the first argument to `expression()` is the textual\n",
        "representation of the math operation, the second argument is a dictionary\n",
        "where the keys are variable names used in the expression and the values are\n",
        "the image bands to which the variables should be mapped. Bands in the image\n",
        "may be referred to as `b(\"band name\")` or `b(index)`, for example `b(0)`,\n",
        "instead of providing the dictionary. Bands can be defined from images other\n",
        "than the input when using the band map dictionary. Note that `expression()`\n",
        "uses \"floor division\", which discards the remainder and returns an integer\n",
        "when two integers are divided. For example `10 / 20 = 0`. To change this\n",
        "behavior, multiply one of the operands by `1.0`: `10 * 1.0 / 20 = 0.5`. Only\n",
        "the intersection of unmasked pixels are considered and returned as unmasked\n",
        "when bands from more than one source image are evaluated. Supported expression\n",
        "operators are listed in the following table.\n",
        "\n",
        "Operators for `expression()`:\n",
        "\n",
        "Type | Symbol | Name  \n",
        "---|---|---  \n",
        "**Arithmetic** |  \\+ - * / % ** | Add, Subtract, Multiply, Divide, Modulus,\n",
        "Exponent  \n",
        "**Relational** |  == != \u003c \u003e \u003c= \u003e= | Equal, Not Equal, Less Than, Greater than,\n",
        "etc.  \n",
        "**Logical** |  \u0026\u0026 || ! ^ | And, Or, Not, Xor  \n",
        "**Ternary** | ? : |  If then else"
      ]
    }
  ],
  "metadata": {
    "colab": {
      "name": "Mathematical Operations",
      "provenance": []
    },
    "kernelspec": {
      "display_name": "Python 3",
      "name": "python3"
    },
    "language_info": {
      "name": "python"
    }
  },
  "nbformat": 4,
  "nbformat_minor": 0
}
