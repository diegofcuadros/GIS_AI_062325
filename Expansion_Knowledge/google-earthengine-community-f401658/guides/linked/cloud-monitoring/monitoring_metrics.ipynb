{
  "cells": [
    {
      "cell_type": "code",
      "execution_count": null,
      "metadata": {
        "id": "rEg0SQ7GUwbT"
      },
      "outputs": [],
      "source": [
        "#@title Copyright 2024 Google LLC. { display-mode: \"form\" }\n",
        "# Licensed under the Apache License, Version 2.0 (the \"License\");\n",
        "# you may not use this file except in compliance with the License.\n",
        "# You may obtain a copy of the License at\n",
        "#\n",
        "# https://www.apache.org/licenses/LICENSE-2.0\n",
        "#\n",
        "# Unless required by applicable law or agreed to in writing, software\n",
        "# distributed under the License is distributed on an \"AS IS\" BASIS,\n",
        "# WITHOUT WARRANTIES OR CONDITIONS OF ANY KIND, either express or implied.\n",
        "# See the License for the specific language governing permissions and\n",
        "# limitations under the License"
      ]
    },
    {
      "cell_type": "code",
      "execution_count": null,
      "metadata": {
        "id": "NeV7bRhShGUS"
      },
      "outputs": [],
      "source": [
        "!pip install google-cloud-monitoring tabulate \u0026\u003e /dev/null"
      ]
    },
    {
      "cell_type": "markdown",
      "metadata": {
        "id": "Q-NTlClznNOu"
      },
      "source": []
    },
    {
      "cell_type": "code",
      "execution_count": null,
      "metadata": {
        "id": "M1qNNoV0fKIU"
      },
      "outputs": [],
      "source": [
        "import ee\n",
        "import google\n",
        "import grpc\n",
        "import locale\n",
        "import time\n",
        "\n",
        "from google.colab import auth\n",
        "from google.cloud import monitoring_v3 as monitoring_v3\n",
        "from tabulate import tabulate"
      ]
    },
    {
      "cell_type": "code",
      "execution_count": null,
      "metadata": {
        "cellView": "form",
        "id": "xKS645B7qsce"
      },
      "outputs": [],
      "source": [
        "auth.authenticate_user()\n",
        "_ = locale.setlocale(locale.LC_ALL, '')\n",
        "\n",
        "PROJECT_ID = \"your-project-id\" # @param {type:\"string\"}\n",
        "\n",
        "credentials, _ = google.auth.default()\n",
        "ee.Initialize(\n",
        "    credentials,\n",
        "    project=PROJECT_ID,\n",
        "    opt_url='https://earthengine-highvolume.googleapis.com')"
      ]
    },
    {
      "cell_type": "code",
      "execution_count": null,
      "metadata": {
        "id": "QnfDL8giA0pJ"
      },
      "outputs": [],
      "source": [
        "class WorkloadResult:\n",
        "  def __init__(self, workload_tag):\n",
        "    self.workload_tag = workload_tag\n",
        "    self.wall_seconds = 0\n",
        "    self.interactive_eecu_seconds = 0\n",
        "    self.batch_eecu_seconds = 0\n",
        "\n",
        "  def getTotalEecuSeconds(self):\n",
        "    \"\"\"Return the total EECU-time footprint, in EECU-seconds.\"\"\"\n",
        "    return self.interactive_eecu_seconds + self.batch_eecu_seconds\n",
        "\n",
        "  def getCost(self):\n",
        "    \"\"\"Return the estimated cost of the total EECU-time in USD.\"\"\"\n",
        "    INTERACTIVE_COST = 1.33 # USD / EECU-hour\n",
        "    BATCH_COST = 0.40 # USD / EECU-hour\n",
        "    return (\n",
        "        self.interactive_eecu_seconds / 3600 * INTERACTIVE_COST + \\\n",
        "        self.batch_eecu_seconds / 3600 * BATCH_COST)"
      ]
    },
    {
      "cell_type": "code",
      "execution_count": null,
      "metadata": {
        "id": "m-h2QudNfN4O"
      },
      "outputs": [],
      "source": [
        "def fetch_monitoring_workloads():\n",
        "  # Configure a gRPC client for the Monitoring API.\n",
        "  client = monitoring_v3.MetricServiceClient()\n",
        "  project_name = f\"projects/{PROJECT_ID}\"\n",
        "\n",
        "  # Establish the relevant time periods.\n",
        "  now = time.time()\n",
        "  seconds = int(now)\n",
        "  nanos = int((now - seconds) * 10**9)\n",
        "  lookback_hours = 24 # @param {type:\"integer\"}\n",
        "  lookback_s = lookback_hours * 60 * 60\n",
        "  alignment_period_s = 60 * 60\n",
        "\n",
        "  interval = monitoring_v3.TimeInterval(\n",
        "      {\n",
        "          \"end_time\": {\"seconds\": seconds, \"nanos\": nanos},\n",
        "          \"start_time\": {\"seconds\": (seconds - lookback_s), \"nanos\": nanos},\n",
        "      }\n",
        "  )\n",
        "\n",
        "  aggregation = monitoring_v3.Aggregation(\n",
        "      {\n",
        "          \"alignment_period\": {\"seconds\": alignment_period_s},\n",
        "          \"per_series_aligner\": monitoring_v3.Aggregation.Aligner.ALIGN_SUM,\n",
        "          \"group_by_fields\": [\"metric.labels.workload_tag\", \"metric.labels.compute_type\"],\n",
        "          \"cross_series_reducer\": monitoring_v3.Aggregation.Reducer.REDUCE_SUM\n",
        "      }\n",
        "  )\n",
        "\n",
        "  results = client.list_time_series(\n",
        "      request={\n",
        "          \"name\": project_name,\n",
        "          \"filter\": 'metric.type = \"earthengine.googleapis.com/project/cpu/usage_time\"',\n",
        "          \"interval\": interval,\n",
        "          \"view\": monitoring_v3.ListTimeSeriesRequest.TimeSeriesView.FULL,\n",
        "          \"aggregation\": aggregation,\n",
        "      }\n",
        "  )\n",
        "\n",
        "  # For each resulting timeseries, aggregate the data further by combining\n",
        "  # different observations with the same `workload_tag` value.\n",
        "  sums = {}\n",
        "  for result in results:\n",
        "    key = result.metric.labels['workload_tag'] or \"[default]\"\n",
        "    if key not in sums:\n",
        "      sums[key] = WorkloadResult(key)\n",
        "\n",
        "    eecu_s = result.points[0].value.double_value\n",
        "\n",
        "    # Different compute types have different costs. Track them separately, then\n",
        "    # recompute the value\n",
        "    match result.metric.labels['compute_type']:\n",
        "      case 'batch':\n",
        "        sums[key].batch_eecu_seconds += eecu_s\n",
        "      case 'online' | 'highvolume':\n",
        "        sums[key].interactive_eecu_seconds += eecu_s\n",
        "      case _:\n",
        "        raise RuntimeError(\n",
        "            f\"Unknown compute type: {result.metric.labels['compute_type']}\")\n",
        "\n",
        "  return sums"
      ]
    },
    {
      "cell_type": "code",
      "execution_count": null,
      "metadata": {
        "colab": {
          "base_uri": "https://localhost:8080/"
        },
        "id": "IyCoVriD4fpn",
        "outputId": "cd51567d-8973-4135-a26a-4e2b5f54cfe8"
      },
      "outputs": [
        {
          "name": "stdout",
          "output_type": "stream",
          "text": [
            "Workload tag      EECU-seconds  Cost (USD)\n",
            "--------------  --------------  ------\n",
            "foobar                   24.29  $0.01\n",
            "[default]              1572.63  $0.58\n"
          ]
        }
      ],
      "source": [
        "# Gather the stats.\n",
        "workload_stats = [[\n",
        "      k.workload_tag,  # Workload tag\n",
        "      k.getTotalEecuSeconds(),  # EECU-s\n",
        "      locale.currency(k.getCost()) # Cost\n",
        "    ] for k in fetch_monitoring_workloads().values()\n",
        "  ]\n",
        "\n",
        "# Print a nice table.\n",
        "print(tabulate(\n",
        "    workload_stats,\n",
        "    headers=['Workload tag', 'EECU-seconds', 'Cost (USD)'],\n",
        "    floatfmt=\".2f\"))"
      ]
    }
  ],
  "metadata": {
    "colab": {
      "provenance": []
    },
    "kernelspec": {
      "display_name": "Python 3",
      "name": "python3"
    },
    "language_info": {
      "name": "python"
    }
  },
  "nbformat": 4,
  "nbformat_minor": 0
}
